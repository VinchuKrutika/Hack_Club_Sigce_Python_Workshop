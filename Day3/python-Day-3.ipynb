{
 "cells": [
  {
   "cell_type": "markdown",
   "id": "793df3fd",
   "metadata": {},
   "source": [
    "# String operations in python"
   ]
  },
  {
   "cell_type": "markdown",
   "id": "08181409",
   "metadata": {},
   "source": [
    "## 1.Slicing operation"
   ]
  },
  {
   "cell_type": "code",
   "execution_count": null,
   "id": "9ed7b4eb",
   "metadata": {},
   "outputs": [],
   "source": [
    "# A = \"Hack_Club_SIGCE\""
   ]
  },
  {
   "cell_type": "code",
   "execution_count": null,
   "id": "e295da99",
   "metadata": {},
   "outputs": [],
   "source": [
    "print(A[2:9])"
   ]
  },
  {
   "cell_type": "code",
   "execution_count": null,
   "id": "bbd7cb8c",
   "metadata": {},
   "outputs": [],
   "source": []
  },
  {
   "cell_type": "markdown",
   "id": "80e960fe",
   "metadata": {},
   "source": [
    "### Slice From the Start"
   ]
  },
  {
   "cell_type": "code",
   "execution_count": null,
   "id": "3e48c2cc",
   "metadata": {},
   "outputs": [],
   "source": [
    "print(A[:5])"
   ]
  },
  {
   "cell_type": "code",
   "execution_count": null,
   "id": "3cb43545",
   "metadata": {},
   "outputs": [],
   "source": []
  },
  {
   "cell_type": "markdown",
   "id": "34acf1c9",
   "metadata": {},
   "source": [
    "### Slice From the Start"
   ]
  },
  {
   "cell_type": "code",
   "execution_count": null,
   "id": "a506b45b",
   "metadata": {},
   "outputs": [],
   "source": [
    "print(A[5:])"
   ]
  },
  {
   "cell_type": "code",
   "execution_count": null,
   "id": "88da4181",
   "metadata": {},
   "outputs": [],
   "source": []
  },
  {
   "cell_type": "markdown",
   "id": "95456116",
   "metadata": {},
   "source": [
    "## 2.Modify Strings"
   ]
  },
  {
   "cell_type": "markdown",
   "id": "68d86a72",
   "metadata": {},
   "source": [
    "### Upper Case"
   ]
  },
  {
   "cell_type": "code",
   "execution_count": null,
   "id": "249b62e0",
   "metadata": {},
   "outputs": [],
   "source": [
    "print(A.upper())"
   ]
  },
  {
   "cell_type": "code",
   "execution_count": null,
   "id": "19f7e5da",
   "metadata": {},
   "outputs": [],
   "source": []
  },
  {
   "cell_type": "markdown",
   "id": "2e5b5658",
   "metadata": {},
   "source": [
    "### Lower Case"
   ]
  },
  {
   "cell_type": "code",
   "execution_count": null,
   "id": "8caeaa74",
   "metadata": {},
   "outputs": [],
   "source": [
    "print(A.lower())"
   ]
  },
  {
   "cell_type": "code",
   "execution_count": null,
   "id": "c29218e8",
   "metadata": {},
   "outputs": [],
   "source": []
  },
  {
   "cell_type": "markdown",
   "id": "ced3d02f",
   "metadata": {},
   "source": [
    "### Replace String"
   ]
  },
  {
   "cell_type": "code",
   "execution_count": null,
   "id": "d715a686",
   "metadata": {},
   "outputs": [],
   "source": [
    "print(A.replace(\"_\", \"-\"))"
   ]
  },
  {
   "cell_type": "code",
   "execution_count": null,
   "id": "2b0777cc",
   "metadata": {},
   "outputs": [],
   "source": []
  },
  {
   "cell_type": "markdown",
   "id": "e5566a9a",
   "metadata": {},
   "source": [
    "## 3.Concatinate Strings"
   ]
  },
  {
   "cell_type": "code",
   "execution_count": null,
   "id": "86ca3eac",
   "metadata": {},
   "outputs": [],
   "source": [
    "a = \"Krutika\"\n",
    "b = \"Vinchu\"\n",
    "c = a + b\n",
    "print(c)"
   ]
  },
  {
   "cell_type": "code",
   "execution_count": null,
   "id": "490134f9",
   "metadata": {},
   "outputs": [],
   "source": []
  },
  {
   "cell_type": "markdown",
   "id": "1f9bf8f0",
   "metadata": {},
   "source": [
    "## 4.Format - Strings "
   ]
  },
  {
   "cell_type": "code",
   "execution_count": null,
   "id": "4f1d7a6c",
   "metadata": {},
   "outputs": [],
   "source": [
    "age = 36\n",
    "txt = \"My name is John, I am \" + age\n",
    "print(txt)"
   ]
  },
  {
   "cell_type": "code",
   "execution_count": null,
   "id": "982d5298",
   "metadata": {},
   "outputs": [],
   "source": [
    "age = 20\n",
    "txt = \"My name is Krutika, and I am {}\"\n",
    "print(txt.format(age))\n"
   ]
  },
  {
   "cell_type": "code",
   "execution_count": null,
   "id": "b08d017e",
   "metadata": {},
   "outputs": [],
   "source": [
    "no_of_days = 5\n",
    "current_day = 3\n",
    "\n",
    "HackClubSIGCE = \"It is a {} rd day session of  {} days with python workshop.\"\n",
    "print(HackClubSIGCE.format(current_day, no_of_days))"
   ]
  },
  {
   "cell_type": "code",
   "execution_count": null,
   "id": "05ff3d6d",
   "metadata": {},
   "outputs": [],
   "source": []
  },
  {
   "cell_type": "code",
   "execution_count": null,
   "id": "9734a5c8",
   "metadata": {},
   "outputs": [],
   "source": []
  },
  {
   "cell_type": "markdown",
   "id": "cea0e779",
   "metadata": {},
   "source": [
    "## Methods  "
   ]
  },
  {
   "cell_type": "markdown",
   "id": "d6d2149a",
   "metadata": {},
   "source": [
    "### Count Method "
   ]
  },
  {
   "cell_type": "code",
   "execution_count": null,
   "id": "33385b17",
   "metadata": {},
   "outputs": [],
   "source": [
    "txt = \"I am Krutika, and I am 20\"\n",
    "count1 = txt.count(\"am\")\n",
    "print(count1)"
   ]
  },
  {
   "cell_type": "code",
   "execution_count": null,
   "id": "bbfdacb3",
   "metadata": {},
   "outputs": [],
   "source": []
  },
  {
   "cell_type": "markdown",
   "id": "e391331e",
   "metadata": {},
   "source": [
    "### Capitalize Method "
   ]
  },
  {
   "cell_type": "code",
   "execution_count": null,
   "id": "135cd2b9",
   "metadata": {},
   "outputs": [],
   "source": [
    "txt = \"i am krutika, and i am 20\"\n",
    "count2 = txt.capitalize()\n",
    "\n",
    "print (count2)\n"
   ]
  },
  {
   "cell_type": "code",
   "execution_count": null,
   "id": "6125f974",
   "metadata": {},
   "outputs": [],
   "source": []
  }
 ],
 "metadata": {
  "kernelspec": {
   "display_name": "Python 3",
   "language": "python",
   "name": "python3"
  },
  "language_info": {
   "codemirror_mode": {
    "name": "ipython",
    "version": 3
   },
   "file_extension": ".py",
   "mimetype": "text/x-python",
   "name": "python",
   "nbconvert_exporter": "python",
   "pygments_lexer": "ipython3",
   "version": "3.8.8"
  }
 },
 "nbformat": 4,
 "nbformat_minor": 5
}
