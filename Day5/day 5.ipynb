{
 "cells": [
  {
   "cell_type": "markdown",
   "id": "d309a149",
   "metadata": {},
   "source": [
    "# Functions in python"
   ]
  },
  {
   "cell_type": "markdown",
   "id": "3195055a",
   "metadata": {},
   "source": [
    "## Creating function"
   ]
  },
  {
   "cell_type": "code",
   "execution_count": 2,
   "id": "d67bb116",
   "metadata": {},
   "outputs": [],
   "source": [
    "#function definition  \n",
    "def my_function():\n",
    "  print(\"Hello from a function\")"
   ]
  },
  {
   "cell_type": "code",
   "execution_count": null,
   "id": "773128bb",
   "metadata": {},
   "outputs": [],
   "source": []
  },
  {
   "cell_type": "markdown",
   "id": "ada02c60",
   "metadata": {},
   "source": [
    "## Calling function "
   ]
  },
  {
   "cell_type": "code",
   "execution_count": 3,
   "id": "0fd8de06",
   "metadata": {},
   "outputs": [
    {
     "name": "stdout",
     "output_type": "stream",
     "text": [
      "Hello from a function\n"
     ]
    }
   ],
   "source": [
    "def my_function():\n",
    "  print(\"Hello from a function\")\n",
    "\n",
    "my_function()"
   ]
  },
  {
   "cell_type": "code",
   "execution_count": null,
   "id": "10509fb3",
   "metadata": {},
   "outputs": [],
   "source": []
  },
  {
   "cell_type": "markdown",
   "id": "19033e90",
   "metadata": {},
   "source": [
    "## input() function "
   ]
  },
  {
   "cell_type": "code",
   "execution_count": 4,
   "id": "e034d66a",
   "metadata": {},
   "outputs": [
    {
     "name": "stdout",
     "output_type": "stream",
     "text": [
      "Enter your name:Krutika\n",
      "Hello, Krutika\n"
     ]
    }
   ],
   "source": [
    "y = input('Enter your name:')\n",
    "print('Hello, ' + y)"
   ]
  },
  {
   "cell_type": "markdown",
   "id": "abeefd23",
   "metadata": {},
   "source": [
    "## print() function "
   ]
  },
  {
   "cell_type": "code",
   "execution_count": 5,
   "id": "b6cc817d",
   "metadata": {},
   "outputs": [
    {
     "name": "stdout",
     "output_type": "stream",
     "text": [
      "Hello how are you?\n"
     ]
    }
   ],
   "source": [
    "print(\"Hello\", \"how are you?\")"
   ]
  },
  {
   "cell_type": "code",
   "execution_count": null,
   "id": "22ce8964",
   "metadata": {},
   "outputs": [],
   "source": []
  },
  {
   "cell_type": "code",
   "execution_count": null,
   "id": "67c6e38c",
   "metadata": {},
   "outputs": [],
   "source": []
  },
  {
   "cell_type": "markdown",
   "id": "7d17a574",
   "metadata": {},
   "source": [
    "## int() function "
   ]
  },
  {
   "cell_type": "code",
   "execution_count": 6,
   "id": "148aa924",
   "metadata": {},
   "outputs": [
    {
     "name": "stdout",
     "output_type": "stream",
     "text": [
      "12\n"
     ]
    }
   ],
   "source": [
    "x = int(\"12\")\n",
    "\n",
    "print(x)\n"
   ]
  },
  {
   "cell_type": "code",
   "execution_count": null,
   "id": "a70d2fe7",
   "metadata": {},
   "outputs": [],
   "source": []
  },
  {
   "cell_type": "markdown",
   "id": "09ba839e",
   "metadata": {},
   "source": [
    "## float() function "
   ]
  },
  {
   "cell_type": "code",
   "execution_count": 7,
   "id": "1f5c8697",
   "metadata": {},
   "outputs": [
    {
     "name": "stdout",
     "output_type": "stream",
     "text": [
      "3.5\n"
     ]
    }
   ],
   "source": [
    "x = float(\"3.500\")\n",
    "\n",
    "print(x)\n"
   ]
  },
  {
   "cell_type": "code",
   "execution_count": null,
   "id": "35228791",
   "metadata": {},
   "outputs": [],
   "source": []
  },
  {
   "cell_type": "markdown",
   "id": "fd456561",
   "metadata": {},
   "source": [
    "## Type() function"
   ]
  },
  {
   "cell_type": "code",
   "execution_count": 8,
   "id": "425d08b8",
   "metadata": {},
   "outputs": [
    {
     "name": "stdout",
     "output_type": "stream",
     "text": [
      "<class 'float'>\n"
     ]
    }
   ],
   "source": [
    "print(type(x))"
   ]
  },
  {
   "cell_type": "markdown",
   "id": "a3a060ec",
   "metadata": {},
   "source": [
    "# File Handling In Python"
   ]
  },
  {
   "cell_type": "markdown",
   "id": "9db3e7a9",
   "metadata": {},
   "source": [
    "## Creating a new file"
   ]
  },
  {
   "cell_type": "code",
   "execution_count": 13,
   "id": "de1866f9",
   "metadata": {},
   "outputs": [],
   "source": [
    "f = open(\"krutika3.txt\", \"x\")"
   ]
  },
  {
   "cell_type": "code",
   "execution_count": null,
   "id": "8f51c63f",
   "metadata": {},
   "outputs": [],
   "source": []
  },
  {
   "cell_type": "markdown",
   "id": "b2e45750",
   "metadata": {},
   "source": [
    "## Open a file "
   ]
  },
  {
   "cell_type": "code",
   "execution_count": 14,
   "id": "8fbd8ecc",
   "metadata": {},
   "outputs": [
    {
     "name": "stdout",
     "output_type": "stream",
     "text": [
      "\n"
     ]
    }
   ],
   "source": [
    "f = open(\"krutika3.txt\", \"r\")\n",
    "print(f.read())"
   ]
  },
  {
   "cell_type": "code",
   "execution_count": null,
   "id": "976d9a7d",
   "metadata": {},
   "outputs": [],
   "source": []
  },
  {
   "cell_type": "code",
   "execution_count": null,
   "id": "d21c1a4f",
   "metadata": {},
   "outputs": [],
   "source": []
  },
  {
   "cell_type": "markdown",
   "id": "3943bfe6",
   "metadata": {},
   "source": [
    "## Append data in a file "
   ]
  },
  {
   "cell_type": "code",
   "execution_count": 15,
   "id": "a4225ea6",
   "metadata": {},
   "outputs": [
    {
     "name": "stdout",
     "output_type": "stream",
     "text": [
      "Hello Everyone!!!\n"
     ]
    }
   ],
   "source": [
    "f = open(\"krutika3.txt\", \"a\")\n",
    "f.write(\"Hello Everyone!!!\")\n",
    "f.close()\n",
    "\n",
    "#open and read the file after the appending:\n",
    "f = open(\"krutika3.txt\", \"r\")\n",
    "print(f.read())\n"
   ]
  },
  {
   "cell_type": "code",
   "execution_count": 17,
   "id": "5eced214",
   "metadata": {},
   "outputs": [
    {
     "name": "stdout",
     "output_type": "stream",
     "text": [
      "Hope you all are safe and healthyHope you all are safe and healthy\n"
     ]
    }
   ],
   "source": [
    "f = open(\"krutika3.txt\", \"a\")\n",
    "f.write(\"Hope you all are safe and healthy\")\n",
    "f.close()\n",
    "\n",
    "#open and read the file after the appending:\n",
    "f = open(\"krutika3.txt\", \"r\")\n",
    "print(f.read())\n"
   ]
  },
  {
   "cell_type": "code",
   "execution_count": null,
   "id": "dd2a9d16",
   "metadata": {},
   "outputs": [],
   "source": []
  },
  {
   "cell_type": "markdown",
   "id": "b4739203",
   "metadata": {},
   "source": [
    "## Write data in a file "
   ]
  },
  {
   "cell_type": "code",
   "execution_count": 18,
   "id": "7c3ad6ef",
   "metadata": {},
   "outputs": [
    {
     "name": "stdout",
     "output_type": "stream",
     "text": [
      "Bye Bye old content!!!\n"
     ]
    }
   ],
   "source": [
    "f = open(\"krutika3.txt\", \"w\")\n",
    "f.write(\"Bye Bye old content!!!\")\n",
    "f.close()\n",
    "\n",
    "#open and read the file after the appending:\n",
    "f = open(\"krutika3.txt\", \"r\")\n",
    "print(f.read())"
   ]
  },
  {
   "cell_type": "code",
   "execution_count": null,
   "id": "81bf3c91",
   "metadata": {},
   "outputs": [],
   "source": []
  },
  {
   "cell_type": "markdown",
   "id": "440ebc9f",
   "metadata": {},
   "source": [
    "## Delete a file"
   ]
  },
  {
   "cell_type": "code",
   "execution_count": 19,
   "id": "0c7ad58e",
   "metadata": {},
   "outputs": [
    {
     "ename": "PermissionError",
     "evalue": "[WinError 32] The process cannot access the file because it is being used by another process: 'krutika3.txt'",
     "output_type": "error",
     "traceback": [
      "\u001b[1;31m---------------------------------------------------------------------------\u001b[0m",
      "\u001b[1;31mPermissionError\u001b[0m                           Traceback (most recent call last)",
      "\u001b[1;32m<ipython-input-19-e77736cea1b4>\u001b[0m in \u001b[0;36m<module>\u001b[1;34m\u001b[0m\n\u001b[0;32m      1\u001b[0m \u001b[1;32mimport\u001b[0m \u001b[0mos\u001b[0m\u001b[1;33m\u001b[0m\u001b[1;33m\u001b[0m\u001b[0m\n\u001b[1;32m----> 2\u001b[1;33m \u001b[0mos\u001b[0m\u001b[1;33m.\u001b[0m\u001b[0mremove\u001b[0m\u001b[1;33m(\u001b[0m\u001b[1;34m\"krutika3.txt\"\u001b[0m\u001b[1;33m)\u001b[0m\u001b[1;33m\u001b[0m\u001b[1;33m\u001b[0m\u001b[0m\n\u001b[0m",
      "\u001b[1;31mPermissionError\u001b[0m: [WinError 32] The process cannot access the file because it is being used by another process: 'krutika3.txt'"
     ]
    }
   ],
   "source": [
    "import os\n",
    "os.remove(\"krutika3.txt\")"
   ]
  },
  {
   "cell_type": "markdown",
   "id": "4db0b3a2",
   "metadata": {},
   "source": []
  },
  {
   "cell_type": "code",
   "execution_count": null,
   "id": "5a8ec5fa",
   "metadata": {},
   "outputs": [],
   "source": []
  },
  {
   "cell_type": "markdown",
   "id": "b7803bee",
   "metadata": {},
   "source": [
    "# Object Oriented Programing In Python "
   ]
  },
  {
   "cell_type": "markdown",
   "id": "4ae36db3",
   "metadata": {},
   "source": [
    "## Creating a class and object "
   ]
  },
  {
   "cell_type": "code",
   "execution_count": 20,
   "id": "0309338e",
   "metadata": {},
   "outputs": [
    {
     "name": "stdout",
     "output_type": "stream",
     "text": [
      "<class '__main__.HackClub'>\n"
     ]
    }
   ],
   "source": [
    "class HackClub:\n",
    "    \n",
    "    def day_5():\n",
    "        print(\"Yes its 5th day of 5 days with python...\")\n",
    "        \n",
    "        \n",
    "    \n",
    "club1 = HackClub()\n",
    "\n",
    "\n",
    "print(type(club1))\n"
   ]
  },
  {
   "cell_type": "code",
   "execution_count": null,
   "id": "c5b32825",
   "metadata": {},
   "outputs": [],
   "source": [
    "  "
   ]
  },
  {
   "cell_type": "code",
   "execution_count": 21,
   "id": "b5072810",
   "metadata": {},
   "outputs": [
    {
     "name": "stdout",
     "output_type": "stream",
     "text": [
      "<class 'str'>\n",
      "<class 'int'>\n"
     ]
    }
   ],
   "source": [
    "a = 'krutika'\n",
    "b = 567\n",
    "\n",
    "print(type(a))\n",
    "print(type(b))"
   ]
  },
  {
   "cell_type": "markdown",
   "id": "14f10644",
   "metadata": {},
   "source": [
    "## How to call/Access elements from the class"
   ]
  },
  {
   "cell_type": "markdown",
   "id": "6d5583b3",
   "metadata": {},
   "source": [
    "In this case we are going to call method day_5()"
   ]
  },
  {
   "cell_type": "code",
   "execution_count": 22,
   "id": "d060c85f",
   "metadata": {},
   "outputs": [
    {
     "ename": "NameError",
     "evalue": "name 'day_5' is not defined",
     "output_type": "error",
     "traceback": [
      "\u001b[1;31m---------------------------------------------------------------------------\u001b[0m",
      "\u001b[1;31mNameError\u001b[0m                                 Traceback (most recent call last)",
      "\u001b[1;32m<ipython-input-22-60c2debcc42d>\u001b[0m in \u001b[0;36m<module>\u001b[1;34m\u001b[0m\n\u001b[1;32m----> 1\u001b[1;33m \u001b[0mday_5\u001b[0m\u001b[1;33m(\u001b[0m\u001b[1;33m)\u001b[0m\u001b[1;33m\u001b[0m\u001b[1;33m\u001b[0m\u001b[0m\n\u001b[0m",
      "\u001b[1;31mNameError\u001b[0m: name 'day_5' is not defined"
     ]
    }
   ],
   "source": [
    "day_5()"
   ]
  },
  {
   "cell_type": "code",
   "execution_count": 23,
   "id": "13cacbd8",
   "metadata": {},
   "outputs": [
    {
     "name": "stdout",
     "output_type": "stream",
     "text": [
      "Yes its 5th day of 5 days with python...\n"
     ]
    }
   ],
   "source": [
    "HackClub.day_5()"
   ]
  },
  {
   "cell_type": "code",
   "execution_count": null,
   "id": "f4ca3404",
   "metadata": {},
   "outputs": [],
   "source": []
  },
  {
   "cell_type": "code",
   "execution_count": 24,
   "id": "212f4c8e",
   "metadata": {},
   "outputs": [
    {
     "name": "stdout",
     "output_type": "stream",
     "text": [
      "<class '__main__.HackClub'>\n"
     ]
    }
   ],
   "source": [
    "class HackClub:\n",
    "    \n",
    "    def day_4():\n",
    "        print(\"No its not 4th day of 5 days with python...\")\n",
    "            \n",
    "        \n",
    "    def day_3(self):\n",
    "        print(\"No its not 3rd day of 5 days with python...\")\n",
    "\n",
    "    \n",
    "    def day_5():\n",
    "        print(\"Yes its 5th day of 5 days with python...\")\n",
    "        \n",
    "        \n",
    "\n",
    "  \n",
    "club1 = HackClub()\n",
    "club2= HackClub()\n",
    "club3= HackClub()\n",
    "\n",
    "\n",
    "    \n",
    "print(type(club2))"
   ]
  },
  {
   "cell_type": "code",
   "execution_count": null,
   "id": "8347add8",
   "metadata": {},
   "outputs": [],
   "source": []
  },
  {
   "cell_type": "code",
   "execution_count": 25,
   "id": "7a2b4a39",
   "metadata": {},
   "outputs": [
    {
     "name": "stdout",
     "output_type": "stream",
     "text": [
      "No its not 4th day of 5 days with python...\n"
     ]
    }
   ],
   "source": [
    "HackClub.day_4()"
   ]
  },
  {
   "cell_type": "code",
   "execution_count": null,
   "id": "866341f8",
   "metadata": {},
   "outputs": [],
   "source": []
  },
  {
   "cell_type": "code",
   "execution_count": 26,
   "id": "c70e3302",
   "metadata": {},
   "outputs": [
    {
     "ename": "TypeError",
     "evalue": "day_3() missing 1 required positional argument: 'self'",
     "output_type": "error",
     "traceback": [
      "\u001b[1;31m---------------------------------------------------------------------------\u001b[0m",
      "\u001b[1;31mTypeError\u001b[0m                                 Traceback (most recent call last)",
      "\u001b[1;32m<ipython-input-26-cbe2f6d3d1fb>\u001b[0m in \u001b[0;36m<module>\u001b[1;34m\u001b[0m\n\u001b[1;32m----> 1\u001b[1;33m \u001b[0mHackClub\u001b[0m\u001b[1;33m.\u001b[0m\u001b[0mday_3\u001b[0m\u001b[1;33m(\u001b[0m\u001b[1;33m)\u001b[0m\u001b[1;33m\u001b[0m\u001b[1;33m\u001b[0m\u001b[0m\n\u001b[0m",
      "\u001b[1;31mTypeError\u001b[0m: day_3() missing 1 required positional argument: 'self'"
     ]
    }
   ],
   "source": [
    "HackClub.day_3()"
   ]
  },
  {
   "cell_type": "code",
   "execution_count": null,
   "id": "7e3350f5",
   "metadata": {},
   "outputs": [],
   "source": []
  },
  {
   "cell_type": "code",
   "execution_count": 27,
   "id": "bd3a2e3c",
   "metadata": {},
   "outputs": [
    {
     "name": "stdout",
     "output_type": "stream",
     "text": [
      "No its not 3rd day of 5 days with python...\n"
     ]
    }
   ],
   "source": [
    "HackClub.day_3(club3)"
   ]
  },
  {
   "cell_type": "code",
   "execution_count": null,
   "id": "64a712a7",
   "metadata": {},
   "outputs": [],
   "source": []
  },
  {
   "cell_type": "code",
   "execution_count": 28,
   "id": "a4882a38",
   "metadata": {},
   "outputs": [
    {
     "name": "stdout",
     "output_type": "stream",
     "text": [
      "No its not 3rd day of 5 days with python...\n"
     ]
    }
   ],
   "source": [
    "club2.day_3()\n"
   ]
  },
  {
   "cell_type": "code",
   "execution_count": 29,
   "id": "48275cdb",
   "metadata": {},
   "outputs": [
    {
     "name": "stdout",
     "output_type": "stream",
     "text": [
      "No its not 3rd day of 5 days with python...\n"
     ]
    }
   ],
   "source": [
    "club3.day_3()"
   ]
  },
  {
   "cell_type": "code",
   "execution_count": 30,
   "id": "8c24febd",
   "metadata": {},
   "outputs": [
    {
     "ename": "TypeError",
     "evalue": "day_4() takes 0 positional arguments but 1 was given",
     "output_type": "error",
     "traceback": [
      "\u001b[1;31m---------------------------------------------------------------------------\u001b[0m",
      "\u001b[1;31mTypeError\u001b[0m                                 Traceback (most recent call last)",
      "\u001b[1;32m<ipython-input-30-a1490b0502f9>\u001b[0m in \u001b[0;36m<module>\u001b[1;34m\u001b[0m\n\u001b[1;32m----> 1\u001b[1;33m \u001b[0mclub3\u001b[0m\u001b[1;33m.\u001b[0m\u001b[0mday_4\u001b[0m\u001b[1;33m(\u001b[0m\u001b[1;33m)\u001b[0m\u001b[1;33m\u001b[0m\u001b[1;33m\u001b[0m\u001b[0m\n\u001b[0m",
      "\u001b[1;31mTypeError\u001b[0m: day_4() takes 0 positional arguments but 1 was given"
     ]
    }
   ],
   "source": [
    "\n",
    "club3.day_4()"
   ]
  },
  {
   "cell_type": "code",
   "execution_count": null,
   "id": "a87833f0",
   "metadata": {},
   "outputs": [],
   "source": []
  },
  {
   "cell_type": "code",
   "execution_count": 31,
   "id": "e5fac357",
   "metadata": {},
   "outputs": [],
   "source": [
    " class HackClub:    \n",
    "    \n",
    "    def day_1(self):\n",
    "        print(\"No its not st day of 5 days with python...\")\n",
    "        \n",
    "    def day_4():\n",
    "        print(\"No its not 4th day of 5 days with python...\")\n",
    "        \n",
    "        \n",
    "    def day_3(self):\n",
    "        print(\"No its not 3rd day of 5 days with python...\")\n",
    "\n",
    "    \n",
    "    def day_5():\n",
    "        print(\"Yes its 5th day of 5 days with python...\")\n",
    "        \n",
    "club1 = HackClub()\n",
    "club2= HackClub()\n",
    "club3= HackClub()\n",
    "\n",
    "        \n",
    " "
   ]
  },
  {
   "cell_type": "code",
   "execution_count": 32,
   "id": "485d6441",
   "metadata": {},
   "outputs": [
    {
     "name": "stdout",
     "output_type": "stream",
     "text": [
      "No its not 3rd day of 5 days with python...\n"
     ]
    }
   ],
   "source": [
    "club3.day_3()"
   ]
  },
  {
   "cell_type": "code",
   "execution_count": null,
   "id": "02393a71",
   "metadata": {},
   "outputs": [],
   "source": []
  },
  {
   "cell_type": "markdown",
   "id": "b37086d3",
   "metadata": {},
   "source": [
    "## init function in python"
   ]
  },
  {
   "cell_type": "code",
   "execution_count": 33,
   "id": "2ed6530f",
   "metadata": {},
   "outputs": [
    {
     "ename": "TypeError",
     "evalue": "__init__() takes 0 positional arguments but 1 was given",
     "output_type": "error",
     "traceback": [
      "\u001b[1;31m---------------------------------------------------------------------------\u001b[0m",
      "\u001b[1;31mTypeError\u001b[0m                                 Traceback (most recent call last)",
      "\u001b[1;32m<ipython-input-33-1b953a3b426e>\u001b[0m in \u001b[0;36m<module>\u001b[1;34m\u001b[0m\n\u001b[0;32m     19\u001b[0m \u001b[1;33m\u001b[0m\u001b[0m\n\u001b[0;32m     20\u001b[0m \u001b[1;33m\u001b[0m\u001b[0m\n\u001b[1;32m---> 21\u001b[1;33m \u001b[0mclub1\u001b[0m \u001b[1;33m=\u001b[0m \u001b[0mHackClub\u001b[0m\u001b[1;33m(\u001b[0m\u001b[1;33m)\u001b[0m\u001b[1;33m\u001b[0m\u001b[1;33m\u001b[0m\u001b[0m\n\u001b[0m\u001b[0;32m     22\u001b[0m \u001b[0mclub2\u001b[0m\u001b[1;33m=\u001b[0m \u001b[0mHackClub\u001b[0m\u001b[1;33m(\u001b[0m\u001b[1;33m)\u001b[0m\u001b[1;33m\u001b[0m\u001b[1;33m\u001b[0m\u001b[0m\n\u001b[0;32m     23\u001b[0m \u001b[0mclub3\u001b[0m\u001b[1;33m=\u001b[0m \u001b[0mHackClub\u001b[0m\u001b[1;33m(\u001b[0m\u001b[1;33m)\u001b[0m\u001b[1;33m\u001b[0m\u001b[1;33m\u001b[0m\u001b[0m\n",
      "\u001b[1;31mTypeError\u001b[0m: __init__() takes 0 positional arguments but 1 was given"
     ]
    }
   ],
   "source": [
    "class HackClub:    \n",
    "    \n",
    "    def __init__():\n",
    "        print(\"in init...\")\n",
    "    \n",
    "    def day_1(self):\n",
    "        print(\"No its not st day of 5 days with python...\")\n",
    "        \n",
    "    def day_4():\n",
    "        print(\"No its not 4th day of 5 days with python...\")\n",
    "        \n",
    "        \n",
    "    def day_3(self):\n",
    "        print(\"No its not 3rd day of 5 days with python...\")\n",
    "\n",
    "    \n",
    "    def day_5():\n",
    "        print(\"Yes its 5th day of 5 days with python...\")\n",
    "        \n",
    "\n",
    "club1 = HackClub()\n",
    "club2= HackClub()\n",
    "club3= HackClub()\n",
    "\n",
    "        \n",
    "    \n",
    "        "
   ]
  },
  {
   "cell_type": "code",
   "execution_count": 34,
   "id": "be5219bc",
   "metadata": {},
   "outputs": [
    {
     "name": "stdout",
     "output_type": "stream",
     "text": [
      "in init...\n",
      "in init...\n",
      "in init...\n"
     ]
    }
   ],
   "source": [
    "class HackClub:    \n",
    "    \n",
    "    def __init__(self):\n",
    "        print(\"in init...\")\n",
    "    \n",
    "    def day_1(self):\n",
    "        print(\"No its not st day of 5 days with python...\")\n",
    "        \n",
    "    def day_4():\n",
    "        print(\"No its not 4th day of 5 days with python...\")\n",
    "        \n",
    "        \n",
    "    def day_3(self):\n",
    "        print(\"No its not 3rd day of 5 days with python...\")\n",
    "\n",
    "    \n",
    "    def day_5():\n",
    "        print(\"Yes its 5th day of 5 days with python...\")\n",
    "        \n",
    "        \n",
    "club1 = HackClub()\n",
    "club2= HackClub()\n",
    "club3= HackClub()\n"
   ]
  },
  {
   "cell_type": "code",
   "execution_count": null,
   "id": "325cfa0f",
   "metadata": {},
   "outputs": [],
   "source": []
  },
  {
   "cell_type": "code",
   "execution_count": 35,
   "id": "c384a619",
   "metadata": {},
   "outputs": [],
   "source": [
    "class HackClub:    \n",
    "    \n",
    "    def __init__(self,speaker1,speaker2):\n",
    "        self.speaker1 = speaker1\n",
    "        self.speaker2 = speaker2\n",
    "        \n",
    "    \n",
    "    def day_1(self):\n",
    "        print(\"No its not st day of 5 days with python...\")\n",
    "        \n",
    "    def day_4():\n",
    "        print(\"No its not 4th day of 5 days with python...\",self.speaker1,self.speaker2)\n",
    "        \n",
    "        \n",
    "    def day_3(self):\n",
    "        print(\"Speakers are \",self.speaker1,self.speaker2)\n",
    "\n",
    "    \n",
    "    def day_5():\n",
    "        print(\"Yes its 5th day of 5 days with python...\")\n",
    "        \n",
    "    \n",
    "club1 = HackClub('krutika','shree')\n",
    "club2= HackClub('shree','vedanti')\n",
    "club3= HackClub('vedanti','krutika')\n",
    "\n",
    "\n"
   ]
  },
  {
   "cell_type": "code",
   "execution_count": 36,
   "id": "1405267a",
   "metadata": {},
   "outputs": [
    {
     "name": "stdout",
     "output_type": "stream",
     "text": [
      "Speakers are  vedanti krutika\n"
     ]
    }
   ],
   "source": [
    "club3.day_3()"
   ]
  },
  {
   "cell_type": "code",
   "execution_count": 37,
   "id": "a6b79993",
   "metadata": {},
   "outputs": [
    {
     "name": "stdout",
     "output_type": "stream",
     "text": [
      "Speakers are  shree vedanti\n"
     ]
    }
   ],
   "source": [
    "club2.day_3()"
   ]
  },
  {
   "cell_type": "code",
   "execution_count": 38,
   "id": "5da5208e",
   "metadata": {},
   "outputs": [
    {
     "ename": "TypeError",
     "evalue": "day_4() takes 0 positional arguments but 1 was given",
     "output_type": "error",
     "traceback": [
      "\u001b[1;31m---------------------------------------------------------------------------\u001b[0m",
      "\u001b[1;31mTypeError\u001b[0m                                 Traceback (most recent call last)",
      "\u001b[1;32m<ipython-input-38-7943b35d6b62>\u001b[0m in \u001b[0;36m<module>\u001b[1;34m\u001b[0m\n\u001b[1;32m----> 1\u001b[1;33m \u001b[0mclub1\u001b[0m\u001b[1;33m.\u001b[0m\u001b[0mday_4\u001b[0m\u001b[1;33m(\u001b[0m\u001b[1;33m)\u001b[0m\u001b[1;33m\u001b[0m\u001b[1;33m\u001b[0m\u001b[0m\n\u001b[0m",
      "\u001b[1;31mTypeError\u001b[0m: day_4() takes 0 positional arguments but 1 was given"
     ]
    }
   ],
   "source": [
    "club1.day_4()"
   ]
  },
  {
   "cell_type": "code",
   "execution_count": null,
   "id": "c052d99d",
   "metadata": {},
   "outputs": [],
   "source": []
  },
  {
   "cell_type": "code",
   "execution_count": null,
   "id": "796b0ed1",
   "metadata": {},
   "outputs": [],
   "source": []
  },
  {
   "cell_type": "code",
   "execution_count": null,
   "id": "b47bd2d2",
   "metadata": {},
   "outputs": [],
   "source": []
  }
 ],
 "metadata": {
  "kernelspec": {
   "display_name": "Python 3",
   "language": "python",
   "name": "python3"
  },
  "language_info": {
   "codemirror_mode": {
    "name": "ipython",
    "version": 3
   },
   "file_extension": ".py",
   "mimetype": "text/x-python",
   "name": "python",
   "nbconvert_exporter": "python",
   "pygments_lexer": "ipython3",
   "version": "3.8.8"
  }
 },
 "nbformat": 4,
 "nbformat_minor": 5
}
